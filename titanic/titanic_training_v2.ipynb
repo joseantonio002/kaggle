{
 "cells": [
  {
   "cell_type": "markdown",
   "id": "0f98dee6",
   "metadata": {},
   "source": [
    "1º) iteración:\n",
    "- Eliminar a mano outliers de Fare (Esos tres de 500)\n",
    "- Inputar dos pasajeros con Embarked a null\n",
    "- Seguimos ignorando age\n",
    "- Eliminar SibSp y Parch (Viendo el correlation heatmap no estan correlacionadas con Survived) \\\n",
    " Resultados: 0.77272 (Mejoró)\n",
    "\n",
    "2º) Iteración\n",
    "- Eliminamos Pclass (Está muy relacionada con Fare) \\\n",
    " Resultados: 0.75837 (Empeoró)\n",
    "\n",
    "3º) Iteración\n",
    "- Volvemos a poner Pclass\n",
    "- Quitamos Fare \\\n",
    " Resultados: 0.77751 (Mejor hasta ahora) ¿Porqué paso esto?\n",
    "\n",
    "4º) Iteración\n",
    "- Quitamos embarked Empeoró"
   ]
  },
  {
   "cell_type": "code",
   "execution_count": 161,
   "id": "f294c8c8",
   "metadata": {},
   "outputs": [],
   "source": [
    "import pandas as pd\n",
    "import matplotlib.pyplot as plt\n",
    "import seaborn as sns\n",
    "from sklearn.preprocessing import MinMaxScaler\n",
    "\n",
    "import torch\n",
    "import torch.nn as nn\n",
    "import torch.optim as optim\n",
    "from torch.utils.data import TensorDataset, DataLoader\n",
    "import pandas as pd\n",
    "import numpy as np\n",
    "from sklearn.model_selection import train_test_split\n",
    "from sklearn.preprocessing import StandardScaler, LabelEncoder\n",
    "from sklearn.metrics import accuracy_score, classification_report\n",
    "import matplotlib.pyplot as plt"
   ]
  },
  {
   "cell_type": "code",
   "execution_count": 282,
   "id": "0c021e75",
   "metadata": {},
   "outputs": [],
   "source": [
    "train = pd.read_csv(\"train.csv\")\n",
    "test = pd.read_csv(\"test.csv\")"
   ]
  },
  {
   "cell_type": "code",
   "execution_count": 283,
   "id": "ec3587bc",
   "metadata": {},
   "outputs": [],
   "source": [
    "train = train.loc[train['Fare'] < 500]"
   ]
  },
  {
   "cell_type": "code",
   "execution_count": 284,
   "id": "38c91540",
   "metadata": {},
   "outputs": [],
   "source": [
    "train['Embarked'] = train['Embarked'].fillna('Q')"
   ]
  },
  {
   "cell_type": "code",
   "execution_count": 285,
   "id": "b27d0280",
   "metadata": {},
   "outputs": [],
   "source": [
    "# Missing value in test\n",
    "test['Fare'] = test['Fare'].fillna(test['Fare'].mean())"
   ]
  },
  {
   "cell_type": "code",
   "execution_count": 286,
   "id": "42b0d70c",
   "metadata": {},
   "outputs": [],
   "source": [
    "train['Sex'] = train['Sex'].map({\"male\": 0, \"female\": 1})\n",
    "train['Embarked'] = train['Embarked'].map({\"C\": 0, \"Q\": 1, \"S\": 2})\n",
    "\n",
    "test['Sex'] = test['Sex'].map({\"male\": 0, \"female\": 1})\n",
    "test['Embarked'] = test['Embarked'].map({\"C\": 0, \"Q\": 1, \"S\": 2})"
   ]
  },
  {
   "cell_type": "code",
   "execution_count": 287,
   "id": "5452dcd5",
   "metadata": {},
   "outputs": [
    {
     "name": "stdout",
     "output_type": "stream",
     "text": [
      "<class 'pandas.core.frame.DataFrame'>\n",
      "Index: 888 entries, 0 to 890\n",
      "Data columns (total 12 columns):\n",
      " #   Column       Non-Null Count  Dtype  \n",
      "---  ------       --------------  -----  \n",
      " 0   PassengerId  888 non-null    int64  \n",
      " 1   Survived     888 non-null    int64  \n",
      " 2   Pclass       888 non-null    int64  \n",
      " 3   Name         888 non-null    object \n",
      " 4   Sex          888 non-null    int64  \n",
      " 5   Age          711 non-null    float64\n",
      " 6   SibSp        888 non-null    int64  \n",
      " 7   Parch        888 non-null    int64  \n",
      " 8   Ticket       888 non-null    object \n",
      " 9   Fare         888 non-null    float64\n",
      " 10  Cabin        202 non-null    object \n",
      " 11  Embarked     888 non-null    int64  \n",
      "dtypes: float64(2), int64(7), object(3)\n",
      "memory usage: 90.2+ KB\n"
     ]
    }
   ],
   "source": [
    "train.info()"
   ]
  },
  {
   "cell_type": "code",
   "execution_count": 288,
   "id": "a53008bb",
   "metadata": {},
   "outputs": [],
   "source": [
    "passengerid_test = test['PassengerId'].values.tolist()"
   ]
  },
  {
   "cell_type": "code",
   "execution_count": 289,
   "id": "ed6f6b83",
   "metadata": {},
   "outputs": [],
   "source": [
    "train.drop(columns=['PassengerId', 'Name', 'Ticket', 'Cabin'], inplace=True)\n",
    "test.drop(columns=['PassengerId', 'Name', 'Ticket', 'Cabin'], inplace=True)"
   ]
  },
  {
   "cell_type": "code",
   "execution_count": 290,
   "id": "9c97bf52",
   "metadata": {},
   "outputs": [],
   "source": [
    "train_fe = train.copy(deep=True)\n",
    "test_fe = test.copy(deep=True)"
   ]
  },
  {
   "cell_type": "code",
   "execution_count": null,
   "id": "ba4dda78",
   "metadata": {},
   "outputs": [],
   "source": [
    "train_fe.drop(columns=['Age', 'Parch', 'SibSp', 'Fare'], inplace=True)\n",
    "test_fe.drop(columns=['Age', 'Parch', 'SibSp', 'Fare'], inplace=True)"
   ]
  },
  {
   "cell_type": "code",
   "execution_count": null,
   "id": "f1f90533",
   "metadata": {},
   "outputs": [],
   "source": []
  },
  {
   "cell_type": "code",
   "execution_count": 292,
   "id": "5c0405be",
   "metadata": {},
   "outputs": [
    {
     "data": {
      "image/png": "[encoded data removed]",
      "text/plain": [
       "<Figure size 1600x600 with 2 Axes>"
      ]
     },
     "metadata": {},
     "output_type": "display_data"
    }
   ],
   "source": [
    "plt.figure(figsize=(16, 6))\n",
    "# Store heatmap object in a variable to easily access it when you want to include more features (such as title).\n",
    "# Set the range of values to be displayed on the colormap from -1 to 1, and set the annotation to True to display the correlation values on the heatmap.\n",
    "heatmap = sns.heatmap(train_fe.corr(), vmin=-1, vmax=1, annot=True)"
   ]
  },
  {
   "cell_type": "code",
   "execution_count": 293,
   "id": "a2b0d11e",
   "metadata": {},
   "outputs": [],
   "source": [
    "def remove_outliers_iqr(df, columns):\n",
    "    for column in columns: \n",
    "        Q1 = df[column].quantile(0.25)\n",
    "        Q3 = df[column].quantile(0.75)\n",
    "        IQR = Q3 - Q1\n",
    "        \n",
    "        lower_bound = Q1 - 1.5 * IQR\n",
    "        upper_bound = Q3 + 1.5 * IQR\n",
    "        \n",
    "        df = df[(df[column] >= lower_bound) & (df[column] <= upper_bound)]\n",
    "    return df"
   ]
  },
  {
   "cell_type": "code",
   "execution_count": 294,
   "id": "5ba08ae3",
   "metadata": {},
   "outputs": [],
   "source": [
    "#train_fe = remove_outliers_iqr(train_fe, ['Fare'])"
   ]
  },
  {
   "cell_type": "code",
   "execution_count": 295,
   "id": "15b32b05",
   "metadata": {},
   "outputs": [],
   "source": [
    "scaler = MinMaxScaler()"
   ]
  },
  {
   "cell_type": "code",
   "execution_count": 296,
   "id": "5c0d5b73",
   "metadata": {},
   "outputs": [],
   "source": [
    "columns_to_normalize = ['Fare']"
   ]
  },
  {
   "cell_type": "code",
   "execution_count": 297,
   "id": "04abfdb4",
   "metadata": {},
   "outputs": [],
   "source": [
    "# Min_max to normalize the quantitative variables (continuous and discrete)\n",
    "#train_fe[columns_to_normalize] = scaler.fit_transform(train_fe[columns_to_normalize])\n",
    "\n",
    "#test_fe[columns_to_normalize] = scaler.fit_transform(test_fe[columns_to_normalize])"
   ]
  },
  {
   "cell_type": "code",
   "execution_count": 298,
   "id": "2e66fb1e",
   "metadata": {},
   "outputs": [],
   "source": [
    "train_fe = pd.get_dummies(train_fe, columns=[ 'Pclass'])\n",
    "\n",
    "test_fe = pd.get_dummies(test_fe, columns=['Pclass'])"
   ]
  },
  {
   "cell_type": "code",
   "execution_count": 299,
   "id": "611218b9",
   "metadata": {},
   "outputs": [],
   "source": [
    "# Change boolean columns to integers\n",
    "bool_cols = train_fe.select_dtypes(include='bool').columns\n",
    "train_fe[bool_cols] = train_fe[bool_cols].astype(int)\n",
    "\n",
    "bool_cols = test_fe.select_dtypes(include='bool').columns\n",
    "test_fe[bool_cols] = test_fe[bool_cols].astype(int)"
   ]
  },
  {
   "cell_type": "code",
   "execution_count": 300,
   "id": "5022acc8",
   "metadata": {},
   "outputs": [],
   "source": [
    "train_fe = train_fe.astype(float)\n",
    "\n",
    "test_fe = test_fe.astype(float)"
   ]
  },
  {
   "cell_type": "code",
   "execution_count": 301,
   "id": "5b985724",
   "metadata": {},
   "outputs": [
    {
     "data": {
      "text/html": [
       "<div>\n",
       "<style scoped>\n",
       "    .dataframe tbody tr th:only-of-type {\n",
       "        vertical-align: middle;\n",
       "    }\n",
       "\n",
       "    .dataframe tbody tr th {\n",
       "        vertical-align: top;\n",
       "    }\n",
       "\n",
       "    .dataframe thead th {\n",
       "        text-align: right;\n",
       "    }\n",
       "</style>\n",
       "<table border=\"1\" class=\"dataframe\">\n",
       "  <thead>\n",
       "    <tr style=\"text-align: right;\">\n",
       "      <th></th>\n",
       "      <th>Survived</th>\n",
       "      <th>Sex</th>\n",
       "      <th>Pclass_1</th>\n",
       "      <th>Pclass_2</th>\n",
       "      <th>Pclass_3</th>\n",
       "    </tr>\n",
       "  </thead>\n",
       "  <tbody>\n",
       "    <tr>\n",
       "      <th>0</th>\n",
       "      <td>0.0</td>\n",
       "      <td>0.0</td>\n",
       "      <td>0.0</td>\n",
       "      <td>0.0</td>\n",
       "      <td>1.0</td>\n",
       "    </tr>\n",
       "    <tr>\n",
       "      <th>1</th>\n",
       "      <td>1.0</td>\n",
       "      <td>1.0</td>\n",
       "      <td>1.0</td>\n",
       "      <td>0.0</td>\n",
       "      <td>0.0</td>\n",
       "    </tr>\n",
       "    <tr>\n",
       "      <th>2</th>\n",
       "      <td>1.0</td>\n",
       "      <td>1.0</td>\n",
       "      <td>0.0</td>\n",
       "      <td>0.0</td>\n",
       "      <td>1.0</td>\n",
       "    </tr>\n",
       "    <tr>\n",
       "      <th>3</th>\n",
       "      <td>1.0</td>\n",
       "      <td>1.0</td>\n",
       "      <td>1.0</td>\n",
       "      <td>0.0</td>\n",
       "      <td>0.0</td>\n",
       "    </tr>\n",
       "    <tr>\n",
       "      <th>4</th>\n",
       "      <td>0.0</td>\n",
       "      <td>0.0</td>\n",
       "      <td>0.0</td>\n",
       "      <td>0.0</td>\n",
       "      <td>1.0</td>\n",
       "    </tr>\n",
       "    <tr>\n",
       "      <th>5</th>\n",
       "      <td>0.0</td>\n",
       "      <td>0.0</td>\n",
       "      <td>0.0</td>\n",
       "      <td>0.0</td>\n",
       "      <td>1.0</td>\n",
       "    </tr>\n",
       "    <tr>\n",
       "      <th>6</th>\n",
       "      <td>0.0</td>\n",
       "      <td>0.0</td>\n",
       "      <td>1.0</td>\n",
       "      <td>0.0</td>\n",
       "      <td>0.0</td>\n",
       "    </tr>\n",
       "    <tr>\n",
       "      <th>7</th>\n",
       "      <td>0.0</td>\n",
       "      <td>0.0</td>\n",
       "      <td>0.0</td>\n",
       "      <td>0.0</td>\n",
       "      <td>1.0</td>\n",
       "    </tr>\n",
       "    <tr>\n",
       "      <th>8</th>\n",
       "      <td>1.0</td>\n",
       "      <td>1.0</td>\n",
       "      <td>0.0</td>\n",
       "      <td>0.0</td>\n",
       "      <td>1.0</td>\n",
       "    </tr>\n",
       "    <tr>\n",
       "      <th>9</th>\n",
       "      <td>1.0</td>\n",
       "      <td>1.0</td>\n",
       "      <td>0.0</td>\n",
       "      <td>1.0</td>\n",
       "      <td>0.0</td>\n",
       "    </tr>\n",
       "  </tbody>\n",
       "</table>\n",
       "</div>"
      ],
      "text/plain": [
       "   Survived  Sex  Pclass_1  Pclass_2  Pclass_3\n",
       "0       0.0  0.0       0.0       0.0       1.0\n",
       "1       1.0  1.0       1.0       0.0       0.0\n",
       "2       1.0  1.0       0.0       0.0       1.0\n",
       "3       1.0  1.0       1.0       0.0       0.0\n",
       "4       0.0  0.0       0.0       0.0       1.0\n",
       "5       0.0  0.0       0.0       0.0       1.0\n",
       "6       0.0  0.0       1.0       0.0       0.0\n",
       "7       0.0  0.0       0.0       0.0       1.0\n",
       "8       1.0  1.0       0.0       0.0       1.0\n",
       "9       1.0  1.0       0.0       1.0       0.0"
      ]
     },
     "execution_count": 301,
     "metadata": {},
     "output_type": "execute_result"
    }
   ],
   "source": [
    "train_fe.head(10)"
   ]
  },
  {
   "cell_type": "code",
   "execution_count": 302,
   "id": "2094c05c",
   "metadata": {},
   "outputs": [
    {
     "data": {
      "text/html": [
       "<div>\n",
       "<style scoped>\n",
       "    .dataframe tbody tr th:only-of-type {\n",
       "        vertical-align: middle;\n",
       "    }\n",
       "\n",
       "    .dataframe tbody tr th {\n",
       "        vertical-align: top;\n",
       "    }\n",
       "\n",
       "    .dataframe thead th {\n",
       "        text-align: right;\n",
       "    }\n",
       "</style>\n",
       "<table border=\"1\" class=\"dataframe\">\n",
       "  <thead>\n",
       "    <tr style=\"text-align: right;\">\n",
       "      <th></th>\n",
       "      <th>Sex</th>\n",
       "      <th>Pclass_1</th>\n",
       "      <th>Pclass_2</th>\n",
       "      <th>Pclass_3</th>\n",
       "    </tr>\n",
       "  </thead>\n",
       "  <tbody>\n",
       "    <tr>\n",
       "      <th>0</th>\n",
       "      <td>0.0</td>\n",
       "      <td>0.0</td>\n",
       "      <td>0.0</td>\n",
       "      <td>1.0</td>\n",
       "    </tr>\n",
       "    <tr>\n",
       "      <th>1</th>\n",
       "      <td>1.0</td>\n",
       "      <td>0.0</td>\n",
       "      <td>0.0</td>\n",
       "      <td>1.0</td>\n",
       "    </tr>\n",
       "    <tr>\n",
       "      <th>2</th>\n",
       "      <td>0.0</td>\n",
       "      <td>0.0</td>\n",
       "      <td>1.0</td>\n",
       "      <td>0.0</td>\n",
       "    </tr>\n",
       "    <tr>\n",
       "      <th>3</th>\n",
       "      <td>0.0</td>\n",
       "      <td>0.0</td>\n",
       "      <td>0.0</td>\n",
       "      <td>1.0</td>\n",
       "    </tr>\n",
       "    <tr>\n",
       "      <th>4</th>\n",
       "      <td>1.0</td>\n",
       "      <td>0.0</td>\n",
       "      <td>0.0</td>\n",
       "      <td>1.0</td>\n",
       "    </tr>\n",
       "    <tr>\n",
       "      <th>5</th>\n",
       "      <td>0.0</td>\n",
       "      <td>0.0</td>\n",
       "      <td>0.0</td>\n",
       "      <td>1.0</td>\n",
       "    </tr>\n",
       "    <tr>\n",
       "      <th>6</th>\n",
       "      <td>1.0</td>\n",
       "      <td>0.0</td>\n",
       "      <td>0.0</td>\n",
       "      <td>1.0</td>\n",
       "    </tr>\n",
       "    <tr>\n",
       "      <th>7</th>\n",
       "      <td>0.0</td>\n",
       "      <td>0.0</td>\n",
       "      <td>1.0</td>\n",
       "      <td>0.0</td>\n",
       "    </tr>\n",
       "    <tr>\n",
       "      <th>8</th>\n",
       "      <td>1.0</td>\n",
       "      <td>0.0</td>\n",
       "      <td>0.0</td>\n",
       "      <td>1.0</td>\n",
       "    </tr>\n",
       "    <tr>\n",
       "      <th>9</th>\n",
       "      <td>0.0</td>\n",
       "      <td>0.0</td>\n",
       "      <td>0.0</td>\n",
       "      <td>1.0</td>\n",
       "    </tr>\n",
       "  </tbody>\n",
       "</table>\n",
       "</div>"
      ],
      "text/plain": [
       "   Sex  Pclass_1  Pclass_2  Pclass_3\n",
       "0  0.0       0.0       0.0       1.0\n",
       "1  1.0       0.0       0.0       1.0\n",
       "2  0.0       0.0       1.0       0.0\n",
       "3  0.0       0.0       0.0       1.0\n",
       "4  1.0       0.0       0.0       1.0\n",
       "5  0.0       0.0       0.0       1.0\n",
       "6  1.0       0.0       0.0       1.0\n",
       "7  0.0       0.0       1.0       0.0\n",
       "8  1.0       0.0       0.0       1.0\n",
       "9  0.0       0.0       0.0       1.0"
      ]
     },
     "execution_count": 302,
     "metadata": {},
     "output_type": "execute_result"
    }
   ],
   "source": [
    "test_fe.head(10)"
   ]
  },
  {
   "cell_type": "code",
   "execution_count": 303,
   "id": "f25426da",
   "metadata": {},
   "outputs": [],
   "source": [
    "X = train_fe.drop('Survived', axis=1).to_numpy() # Features\n",
    "y = train_fe['Survived'].to_numpy() # Labels"
   ]
  },
  {
   "cell_type": "code",
   "execution_count": 304,
   "id": "7f8c8bd4",
   "metadata": {},
   "outputs": [],
   "source": [
    "# Convert to tensors\n",
    "X_tensor = torch.tensor(X, dtype=torch.float32)\n",
    "y_tensor = torch.tensor(y, dtype=torch.float32)  # use long for classification with nn.CrossEntropyLoss\n",
    "\n",
    "# Wrap into a TensorDataset\n",
    "# Create a DataLoader\n",
    "train_dataloader = DataLoader(TensorDataset(X_tensor, y_tensor), batch_size=32, shuffle=True)"
   ]
  },
  {
   "cell_type": "code",
   "execution_count": 305,
   "id": "2bf7d030",
   "metadata": {},
   "outputs": [],
   "source": [
    "# Neural Network Definition\n",
    "class TitanicNN(nn.Module):\n",
    "    def __init__(self, input_size, hidden_size1=64, hidden_size2=32, output_size=1, dropout_rate=0.3):\n",
    "        super(TitanicNN, self).__init__()\n",
    "        \n",
    "        self.fc1 = nn.Linear(input_size, hidden_size1)\n",
    "        self.fc2 = nn.Linear(hidden_size1, hidden_size2)\n",
    "        self.fc3 = nn.Linear(hidden_size2, output_size)\n",
    "        \n",
    "        self.relu = nn.ReLU()\n",
    "        self.dropout = nn.Dropout(dropout_rate)\n",
    "        self.sigmoid = nn.Sigmoid()\n",
    "        \n",
    "    def forward(self, x):\n",
    "        x = self.relu(self.fc1(x))\n",
    "        x = self.dropout(x)\n",
    "        x = self.relu(self.fc2(x))\n",
    "        x = self.dropout(x)\n",
    "        x = self.sigmoid(self.fc3(x))\n",
    "        return x\n",
    "    \n",
    "# Training Function\n",
    "def train_model(model, train_loader, criterion, optimizer, num_epochs=100):\n",
    "    model.train()\n",
    "    train_losses = []\n",
    "    train_accuracies = []\n",
    "    \n",
    "    for epoch in range(num_epochs):\n",
    "        running_loss = 0.0\n",
    "        correct_predictions = 0\n",
    "        total_predictions = 0\n",
    "        \n",
    "        for batch_X, batch_y in train_loader:\n",
    "            # Zero gradients\n",
    "            optimizer.zero_grad()\n",
    "            \n",
    "            # Forward pass\n",
    "            outputs = model(batch_X)\n",
    "            batch_y = batch_y.unsqueeze(1)\n",
    "            loss = criterion(outputs, batch_y)\n",
    "            \n",
    "            # Backward pass\n",
    "            loss.backward()\n",
    "            optimizer.step()\n",
    "            \n",
    "            # Statistics\n",
    "            running_loss += loss.item()\n",
    "            predicted = (outputs > 0.5).float()\n",
    "            total_predictions += batch_y.size(0)\n",
    "            correct_predictions += (predicted == batch_y).sum().item()\n",
    "        \n",
    "        epoch_loss = running_loss / len(train_loader)\n",
    "        epoch_accuracy = correct_predictions / total_predictions\n",
    "        \n",
    "        train_losses.append(epoch_loss)\n",
    "        train_accuracies.append(epoch_accuracy)\n",
    "        \n",
    "        if (epoch + 1) % 20 == 0:\n",
    "            print(f'Epoch [{epoch+1}/{num_epochs}], Loss: {epoch_loss:.4f}, Accuracy: {epoch_accuracy:.4f}')\n",
    "    \n",
    "    return train_losses, train_accuracies"
   ]
  },
  {
   "cell_type": "code",
   "execution_count": 306,
   "id": "7d3ba36a",
   "metadata": {},
   "outputs": [],
   "source": [
    "# Initialize model\n",
    "input_size = X.shape[1]\n",
    "model = TitanicNN(input_size=input_size)"
   ]
  },
  {
   "cell_type": "code",
   "execution_count": 307,
   "id": "38d026ce",
   "metadata": {},
   "outputs": [
    {
     "name": "stdout",
     "output_type": "stream",
     "text": [
      "Starting training...\n",
      "Epoch [20/300], Loss: 0.4666, Accuracy: 0.7703\n",
      "Epoch [40/300], Loss: 0.4649, Accuracy: 0.7770\n",
      "Epoch [60/300], Loss: 0.4523, Accuracy: 0.7950\n",
      "Epoch [80/300], Loss: 0.4563, Accuracy: 0.7962\n",
      "Epoch [100/300], Loss: 0.4483, Accuracy: 0.7939\n",
      "Epoch [120/300], Loss: 0.4633, Accuracy: 0.7815\n",
      "Epoch [140/300], Loss: 0.4536, Accuracy: 0.7894\n",
      "Epoch [160/300], Loss: 0.4518, Accuracy: 0.7995\n",
      "Epoch [180/300], Loss: 0.4618, Accuracy: 0.7894\n",
      "Epoch [200/300], Loss: 0.4566, Accuracy: 0.7872\n",
      "Epoch [220/300], Loss: 0.4504, Accuracy: 0.7973\n",
      "Epoch [240/300], Loss: 0.4631, Accuracy: 0.7827\n",
      "Epoch [260/300], Loss: 0.4602, Accuracy: 0.7905\n",
      "Epoch [280/300], Loss: 0.4607, Accuracy: 0.7793\n",
      "Epoch [300/300], Loss: 0.4484, Accuracy: 0.7905\n"
     ]
    }
   ],
   "source": [
    "# Define loss function and optimizer\n",
    "criterion = nn.BCELoss()  # Binary Cross Entropy for binary classification\n",
    "optimizer = optim.Adam(model.parameters(), lr=0.001, weight_decay=1e-5)\n",
    "\n",
    "print(\"Starting training...\")\n",
    "\n",
    "# Train the model\n",
    "train_losses, train_accuracies = train_model(model, train_dataloader, criterion, optimizer, num_epochs=300)"
   ]
  },
  {
   "cell_type": "code",
   "execution_count": 308,
   "id": "d555e3d6",
   "metadata": {},
   "outputs": [],
   "source": [
    "outputs = model(torch.tensor(test_fe.to_numpy(), dtype=torch.float32))"
   ]
  },
  {
   "cell_type": "code",
   "execution_count": 309,
   "id": "1ec49c08",
   "metadata": {},
   "outputs": [],
   "source": [
    "outputs = [int(round(x, 0)) for x in np.array(outputs.tolist()).flatten().tolist()] "
   ]
  },
  {
   "cell_type": "code",
   "execution_count": 310,
   "id": "66671763",
   "metadata": {},
   "outputs": [],
   "source": [
    "df_output = pd.DataFrame({'PassengerId': passengerid_test ,'Survived': outputs})"
   ]
  },
  {
   "cell_type": "code",
   "execution_count": 311,
   "id": "d0a99ecb",
   "metadata": {},
   "outputs": [],
   "source": [
    "df_output.to_csv('output.csv', index=False)"
   ]
  }
 ],
 "metadata": {
  "kernelspec": {
   "display_name": "kaggle",
   "language": "python",
   "name": "python3"
  },
  "language_info": {
   "codemirror_mode": {
    "name": "ipython",
    "version": 3
   },
   "file_extension": ".py",
   "mimetype": "text/x-python",
   "name": "python",
   "nbconvert_exporter": "python",
   "pygments_lexer": "ipython3",
   "version": "3.12.11"
  }
 },
 "nbformat": 4,
 "nbformat_minor": 5
}
